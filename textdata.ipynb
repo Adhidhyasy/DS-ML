{
  "nbformat": 4,
  "nbformat_minor": 0,
  "metadata": {
    "colab": {
      "provenance": []
    },
    "kernelspec": {
      "name": "python3",
      "display_name": "Python 3"
    },
    "language_info": {
      "name": "python"
    }
  },
  "cells": [
    {
      "cell_type": "code",
      "execution_count": 6,
      "metadata": {
        "colab": {
          "base_uri": "https://localhost:8080/"
        },
        "id": "gB9no7TIWnog",
        "outputId": "3b75ddf0-8b69-428a-b412-9f82169726fa"
      },
      "outputs": [
        {
          "output_type": "stream",
          "name": "stdout",
          "text": [
            "Accuracy:50.00%\n",
            "Predicted label for new message:ham\n"
          ]
        }
      ],
      "source": [
        "import pandas as pd\n",
        "from sklearn.model_selection import train_test_split\n",
        "from sklearn.feature_extraction.text import CountVectorizer\n",
        "from sklearn.naive_bayes import MultinomialNB\n",
        "from sklearn.metrics import accuracy_score, classification_report\n",
        "\n",
        "data={'label':['ham','spam','ham','ham','spam','ham','spam','ham'],\n",
        "      'message':[\"Hello,how are you?\",\n",
        "                 \"Congrulations! You've won a lottery of $1000!\",\n",
        "                 \"Don't forget our meeting tomorrow.\",\n",
        "                 \"your subscription is renewed.\",\n",
        "                 \"Click here to claim your prize!\",\n",
        "                 \"See you at the gym later.\",\n",
        "                 \"Limited time offer! Get your discount now!\",\n",
        "                 \"Have a great day!\"]\n",
        "      }\n",
        "df=pd.DataFrame(data)\n",
        "\n",
        "\n",
        "x=df['message']\n",
        "y=df['label']\n",
        "x_train,x_test,y_train,y_test=train_test_split(x,y,test_size=0.25,random_state=42,stratify=y)\n",
        "\n",
        "vectorizer=CountVectorizer()\n",
        "x_train_vectorized=vectorizer.fit_transform(x_train)\n",
        "x_test_vectorized=vectorizer.transform(x_test)\n",
        "\n",
        "model=MultinomialNB()\n",
        "model.fit(x_train_vectorized,y_train)\n",
        "\n",
        "y_pred=model.predict(x_test_vectorized)\n",
        "\n",
        "accuracy=accuracy_score(y_test,y_pred)\n",
        "print(f\"Accuracy:{accuracy*100:.2f}%\")\n",
        "\n",
        "new_message=['how are you']\n",
        "new_message_vectorized=vectorizer.transform(new_message)\n",
        "new_pred=model.predict(new_message_vectorized)\n",
        "print(f\"Predicted label for new message:{new_pred[0]}\")"
      ]
    }
  ]
}